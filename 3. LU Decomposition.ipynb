{
 "cells": [
  {
   "cell_type": "code",
   "execution_count": 71,
   "outputs": [],
   "source": [
    "from src.linear_algebra_resolution.lu_decomposition import lu_resolution\n",
    "from numpy import loadtxt"
   ],
   "metadata": {
    "collapsed": false,
    "pycharm": {
     "name": "#%%\n"
    }
   }
  },
  {
   "cell_type": "code",
   "execution_count": 72,
   "outputs": [],
   "source": [
    "path = 'test_matrix/gauss_partial_pivoting_b.csv'\n",
    "x_b = loadtxt(path, delimiter=',')\n",
    "\n",
    "x = x_b[:,:-1]\n",
    "b = x_b[:,-1]"
   ],
   "metadata": {
    "collapsed": false,
    "pycharm": {
     "name": "#%%\n"
    }
   }
  },
  {
   "cell_type": "code",
   "execution_count": 73,
   "outputs": [
    {
     "data": {
      "text/plain": "array([[5., 1., 0., 2., 1.],\n       [0., 4., 0., 1., 2.],\n       [1., 1., 4., 1., 1.],\n       [0., 1., 2., 6., 0.],\n       [0., 0., 1., 2., 4.]])"
     },
     "execution_count": 73,
     "metadata": {},
     "output_type": "execute_result"
    }
   ],
   "source": [
    "x"
   ],
   "metadata": {
    "collapsed": false,
    "pycharm": {
     "name": "#%%\n"
    }
   }
  },
  {
   "cell_type": "code",
   "execution_count": 74,
   "outputs": [],
   "source": [
    "l, u, resp = lu_resolution(x, b)"
   ],
   "metadata": {
    "collapsed": false,
    "pycharm": {
     "name": "#%%\n"
    }
   }
  },
  {
   "cell_type": "code",
   "execution_count": 75,
   "outputs": [
    {
     "data": {
      "text/plain": "array([-0.17083787, -0.06746464,  0.46028292,  0.52448313,  0.8726877 ])"
     },
     "execution_count": 75,
     "metadata": {},
     "output_type": "execute_result"
    }
   ],
   "source": [
    "# Vetor Resposta\n",
    "resp"
   ],
   "metadata": {
    "collapsed": false,
    "pycharm": {
     "name": "#%%\n"
    }
   }
  },
  {
   "cell_type": "code",
   "execution_count": 76,
   "outputs": [
    {
     "data": {
      "text/plain": "array([1., 2., 3., 4., 5.])"
     },
     "execution_count": 76,
     "metadata": {},
     "output_type": "execute_result"
    }
   ],
   "source": [
    "# Matriz @ Vetor de Resposta\n",
    "x @ resp"
   ],
   "metadata": {
    "collapsed": false,
    "pycharm": {
     "name": "#%%\n"
    }
   }
  },
  {
   "cell_type": "code",
   "execution_count": 77,
   "outputs": [
    {
     "data": {
      "text/plain": "array([[1.        , 0.        , 0.        , 0.        , 0.        ],\n       [0.        , 1.        , 0.        , 0.        , 0.        ],\n       [0.2       , 0.2       , 1.        , 0.        , 0.        ],\n       [0.        , 0.25      , 0.5       , 1.        , 0.        ],\n       [0.        , 0.        , 0.25      , 0.34234234, 1.        ]])"
     },
     "execution_count": 77,
     "metadata": {},
     "output_type": "execute_result"
    }
   ],
   "source": [
    "# Lower Matrix\n",
    "l"
   ],
   "metadata": {
    "collapsed": false,
    "pycharm": {
     "name": "#%%\n"
    }
   }
  },
  {
   "cell_type": "code",
   "execution_count": 78,
   "outputs": [
    {
     "data": {
      "text/plain": "array([[ 5.        ,  1.        ,  0.        ,  2.        ,  1.        ],\n       [ 0.        ,  4.        ,  0.        ,  1.        ,  2.        ],\n       [ 0.        ,  0.        ,  4.        ,  0.4       ,  0.4       ],\n       [ 0.        ,  0.        ,  0.        ,  5.55      , -0.7       ],\n       [ 0.        ,  0.        ,  0.        ,  0.        ,  4.13963964]])"
     },
     "execution_count": 78,
     "metadata": {},
     "output_type": "execute_result"
    }
   ],
   "source": [
    "# Upper Matrix\n",
    "u"
   ],
   "metadata": {
    "collapsed": false,
    "pycharm": {
     "name": "#%%\n"
    }
   }
  },
  {
   "cell_type": "code",
   "execution_count": 79,
   "outputs": [
    {
     "data": {
      "text/plain": "array([[5., 1., 0., 2., 1.],\n       [0., 4., 0., 1., 2.],\n       [1., 1., 4., 1., 1.],\n       [0., 1., 2., 6., 0.],\n       [0., 0., 1., 2., 4.]])"
     },
     "execution_count": 79,
     "metadata": {},
     "output_type": "execute_result"
    }
   ],
   "source": [
    "# Lower @ Upper\n",
    "l @ u"
   ],
   "metadata": {
    "collapsed": false,
    "pycharm": {
     "name": "#%%\n"
    }
   }
  }
 ],
 "metadata": {
  "kernelspec": {
   "display_name": "Python 3",
   "language": "python",
   "name": "python3"
  },
  "language_info": {
   "codemirror_mode": {
    "name": "ipython",
    "version": 2
   },
   "file_extension": ".py",
   "mimetype": "text/x-python",
   "name": "python",
   "nbconvert_exporter": "python",
   "pygments_lexer": "ipython2",
   "version": "2.7.6"
  }
 },
 "nbformat": 4,
 "nbformat_minor": 0
}