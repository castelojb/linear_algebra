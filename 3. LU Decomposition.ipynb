{
 "cells": [
  {
   "cell_type": "code",
   "execution_count": 1,
   "outputs": [],
   "source": [
    "import numpy as np\n",
    "from numpy import loadtxt\n",
    "from src.linear_algebra_resolution import History"
   ],
   "metadata": {
    "collapsed": false,
    "pycharm": {
     "name": "#%%\n"
    }
   }
  },
  {
   "cell_type": "code",
   "execution_count": 16,
   "outputs": [],
   "source": [
    "gauss_partial_pivoting_b_path = 'test_matrix/lu_example.csv'\n",
    "gauss_partial_pivoting_b = loadtxt(gauss_partial_pivoting_b_path, delimiter=',')\n",
    "\n",
    "gauss_partial_pivoting = gauss_partial_pivoting_b[:,:-1]\n",
    "b = gauss_partial_pivoting_b[:,-1]"
   ],
   "metadata": {
    "collapsed": false,
    "pycharm": {
     "name": "#%%\n"
    }
   }
  },
  {
   "cell_type": "code",
   "execution_count": 17,
   "outputs": [
    {
     "data": {
      "text/plain": "array([[ 1.,  1., -1.],\n       [ 1., -2.,  3.],\n       [ 2.,  3.,  1.]])"
     },
     "execution_count": 17,
     "metadata": {},
     "output_type": "execute_result"
    }
   ],
   "source": [
    "gauss_partial_pivoting"
   ],
   "metadata": {
    "collapsed": false,
    "pycharm": {
     "name": "#%%\n"
    }
   }
  },
  {
   "cell_type": "code",
   "execution_count": 63,
   "outputs": [],
   "source": [
    "def lu_decomposition(x: np.ndarray) -> tuple[np.ndarray, np.ndarray]:\n",
    "\n",
    "\tx = x.copy()\n",
    "\n",
    "\tn = x.shape[0]\n",
    "\tu = np.eye(n)\n",
    "\tl = np.eye(n)\n",
    "\n",
    "\tfor k in range(n):\n",
    "\n",
    "\t\tif np.isclose(x[k,k], 0):\n",
    "\t\t\tprint('0 no pivot')\n",
    "\t\t\tbreak\n",
    "\n",
    "\t\tu[k,k] = x[k,k]\n",
    "\n",
    "\t\tfor i in range(k+1, n):\n",
    "\t\t\tl[i, k] = x[i, k] / u[k, k]\n",
    "\t\t\tprint(l[i, k])\n",
    "\n",
    "\t\t\tu[k,i] = x[k,i]\n",
    "\n",
    "\t\tfor i in range(k+1, n):\n",
    "\t\t\tfor j in range(k+1, n):\n",
    "\t\t\t\tx[i, j] = x[i, j] - l[i, k] * u[k, j]\n",
    "\n",
    "\treturn l, u"
   ],
   "metadata": {
    "collapsed": false,
    "pycharm": {
     "name": "#%%\n"
    }
   }
  },
  {
   "cell_type": "code",
   "execution_count": 64,
   "outputs": [],
   "source": [
    "A = np.array([[7, 3, -1], [3, 8, 1], [-1, 1, 4]])"
   ],
   "metadata": {
    "collapsed": false,
    "pycharm": {
     "name": "#%%\n"
    }
   }
  },
  {
   "cell_type": "code",
   "execution_count": 65,
   "outputs": [
    {
     "name": "stdout",
     "output_type": "stream",
     "text": [
      "0.42857142857142855\n",
      "-0.14285714285714285\n",
      "0.16666666666666666\n"
     ]
    }
   ],
   "source": [
    "l, u = lu_decomposition(A)"
   ],
   "metadata": {
    "collapsed": false,
    "pycharm": {
     "name": "#%%\n"
    }
   }
  },
  {
   "cell_type": "code",
   "execution_count": 66,
   "outputs": [
    {
     "data": {
      "text/plain": "array([[ 1.        ,  0.        ,  0.        ],\n       [ 0.42857143,  1.        ,  0.        ],\n       [-0.14285714,  0.16666667,  1.        ]])"
     },
     "execution_count": 66,
     "metadata": {},
     "output_type": "execute_result"
    }
   ],
   "source": [
    "l"
   ],
   "metadata": {
    "collapsed": false,
    "pycharm": {
     "name": "#%%\n"
    }
   }
  },
  {
   "cell_type": "code",
   "execution_count": 67,
   "outputs": [
    {
     "data": {
      "text/plain": "array([[ 7.,  3., -1.],\n       [ 0.,  6.,  1.],\n       [ 0.,  0.,  2.]])"
     },
     "execution_count": 67,
     "metadata": {},
     "output_type": "execute_result"
    }
   ],
   "source": [
    "u"
   ],
   "metadata": {
    "collapsed": false,
    "pycharm": {
     "name": "#%%\n"
    }
   }
  },
  {
   "cell_type": "code",
   "execution_count": null,
   "outputs": [],
   "source": [],
   "metadata": {
    "collapsed": false,
    "pycharm": {
     "name": "#%%\n"
    }
   }
  }
 ],
 "metadata": {
  "kernelspec": {
   "display_name": "Python 3",
   "language": "python",
   "name": "python3"
  },
  "language_info": {
   "codemirror_mode": {
    "name": "ipython",
    "version": 2
   },
   "file_extension": ".py",
   "mimetype": "text/x-python",
   "name": "python",
   "nbconvert_exporter": "python",
   "pygments_lexer": "ipython2",
   "version": "2.7.6"
  }
 },
 "nbformat": 4,
 "nbformat_minor": 0
}