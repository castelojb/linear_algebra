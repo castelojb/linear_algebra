{
 "nbformat": 4,
 "nbformat_minor": 0,
 "metadata": {
  "colab": {
   "provenance": [],
   "collapsed_sections": [],
   "mount_file_id": "1ten6tK6U5J3RVclq9BDjtzsCUt2_7Mq-",
   "authorship_tag": "ABX9TyNClVsptlEpX4zxk88xNevX"
  },
  "kernelspec": {
   "name": "python3",
   "display_name": "Python 3"
  },
  "language_info": {
   "name": "python"
  }
 },
 "cells": [
  {
   "cell_type": "code",
   "execution_count": 1,
   "metadata": {
    "id": "IGRdxXCZZjxT",
    "executionInfo": {
     "status": "ok",
     "timestamp": 1662495438623,
     "user_tz": 180,
     "elapsed": 349,
     "user": {
      "displayName": "João Castelo Branco",
      "userId": "11995656508233092537"
     }
    }
   },
   "outputs": [],
   "source": [
    "import numpy as np\n",
    "from numpy import savetxt"
   ]
  },
  {
   "cell_type": "code",
   "source": [
    "base_path = '/content/drive/MyDrive/Alg. Linear Computacional /test_matrix'"
   ],
   "metadata": {
    "id": "OdPM9NZfc8JY",
    "executionInfo": {
     "status": "ok",
     "timestamp": 1662495511047,
     "user_tz": 180,
     "elapsed": 304,
     "user": {
      "displayName": "João Castelo Branco",
      "userId": "11995656508233092537"
     }
    }
   },
   "execution_count": 2,
   "outputs": []
  },
  {
   "cell_type": "code",
   "source": [
    "gauss_partial_pivoting = np.array([\n",
    "    [5, 1, 0, 2, 1],\n",
    "    [0, 4, 0, 1, 2],\n",
    "    [1, 1, 4, 1, 1],\n",
    "    [0, 1, 2, 6, 0],\n",
    "    [0, 0, 1, 2, 4],\n",
    "])\n",
    "b_gauss_partial_pivoting = np.array([\n",
    "    1,\n",
    "    2,\n",
    "    3,\n",
    "    4,\n",
    "    5\n",
    "])\n",
    "aux = np.column_stack([gauss_partial_pivoting, b_gauss_partial_pivoting])\n",
    "\n",
    "name = 'gauss_partial_pivoting_b'\n",
    "path = f'{base_path}/{name}.csv'\n",
    "\n",
    "savetxt(\n",
    "     path,\n",
    "     aux,\n",
    "     delimiter=',')"
   ],
   "metadata": {
    "id": "Okm5enx3ZlUO",
    "executionInfo": {
     "status": "ok",
     "timestamp": 1662495629247,
     "user_tz": 180,
     "elapsed": 2,
     "user": {
      "displayName": "João Castelo Branco",
      "userId": "11995656508233092537"
     }
    }
   },
   "execution_count": 4,
   "outputs": []
  },
  {
   "cell_type": "code",
   "source": [
    "gauss_total_pivoting = np.array([\n",
    "    [0, 1, 2, 3],\n",
    "    [0, 1, 4, 12],\n",
    "    [1, 1, 1, 1],\n",
    "    [1, 2, 4, 8],\n",
    "])\n",
    "b_gauss_total_pivoting = np.array([\n",
    "    -0.2,\n",
    "     0.8,\n",
    "    1.5,\n",
    "    1.2,\n",
    "])\n",
    "aux = np.column_stack([gauss_total_pivoting, b_gauss_total_pivoting])\n",
    "\n",
    "name = 'gauss_total_pivoting_b'\n",
    "path = f'{base_path}/{name}.csv'\n",
    "\n",
    "savetxt(\n",
    "     path,\n",
    "     aux,\n",
    "     delimiter=',')"
   ],
   "metadata": {
    "id": "-n4PK4Ckdhvl",
    "executionInfo": {
     "status": "ok",
     "timestamp": 1662496224031,
     "user_tz": 180,
     "elapsed": 3,
     "user": {
      "displayName": "João Castelo Branco",
      "userId": "11995656508233092537"
     }
    }
   },
   "execution_count": 5,
   "outputs": []
  },
  {
   "cell_type": "code",
   "source": [],
   "metadata": {
    "id": "kx-i7bcgfy86"
   },
   "execution_count": null,
   "outputs": []
  }
 ]
}
