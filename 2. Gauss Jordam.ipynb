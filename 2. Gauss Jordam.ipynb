{
 "cells": [
  {
   "cell_type": "code",
   "execution_count": 1,
   "metadata": {},
   "outputs": [],
   "source": [
    "import numpy as np\n",
    "from numpy import loadtxt\n",
    "from src.linear_algebra_resolution.gauss_jordam_elimination import gaussian_jordam_elimination"
   ]
  },
  {
   "cell_type": "code",
   "execution_count": 2,
   "metadata": {
    "pycharm": {
     "name": "#%%\n"
    }
   },
   "outputs": [],
   "source": [
    "gauss_partial_pivoting_b_path = 'test_matrix/gauss_partial_pivoting_b.csv'\n",
    "gauss_partial_pivoting_b = loadtxt(gauss_partial_pivoting_b_path, delimiter=',')\n",
    "\n",
    "gauss_partial_pivoting = gauss_partial_pivoting_b[:,:-1]\n",
    "b = gauss_partial_pivoting_b[:,-1]"
   ]
  },
  {
   "cell_type": "code",
   "execution_count": 3,
   "metadata": {
    "pycharm": {
     "name": "#%%\n"
    }
   },
   "outputs": [
    {
     "data": {
      "text/plain": "array([[5., 1., 0., 2., 1.],\n       [0., 4., 0., 1., 2.],\n       [1., 1., 4., 1., 1.],\n       [0., 1., 2., 6., 0.],\n       [0., 0., 1., 2., 4.]])"
     },
     "execution_count": 3,
     "metadata": {},
     "output_type": "execute_result"
    }
   ],
   "source": [
    "gauss_partial_pivoting"
   ]
  },
  {
   "cell_type": "code",
   "execution_count": 4,
   "metadata": {
    "pycharm": {
     "name": "#%%\n"
    }
   },
   "outputs": [],
   "source": [
    "resp, hist = gaussian_jordam_elimination(gauss_partial_pivoting, b)"
   ]
  },
  {
   "cell_type": "code",
   "execution_count": 5,
   "metadata": {
    "pycharm": {
     "name": "#%%\n"
    }
   },
   "outputs": [
    {
     "data": {
      "text/plain": "array([1., 2., 3., 4., 5.])"
     },
     "execution_count": 5,
     "metadata": {},
     "output_type": "execute_result"
    }
   ],
   "source": [
    "gauss_partial_pivoting @ resp"
   ]
  },
  {
   "cell_type": "code",
   "execution_count": 6,
   "metadata": {
    "pycharm": {
     "name": "#%%\n"
    }
   },
   "outputs": [
    {
     "data": {
      "text/plain": "array([1., 2., 3., 4., 5.])"
     },
     "execution_count": 6,
     "metadata": {},
     "output_type": "execute_result"
    }
   ],
   "source": [
    "b"
   ]
  },
  {
   "cell_type": "code",
   "execution_count": 8,
   "metadata": {
    "pycharm": {
     "name": "#%%\n"
    },
    "scrolled": true
   },
   "outputs": [],
   "source": [
    "m = hist.apply_operations_matrix()"
   ]
  },
  {
   "cell_type": "code",
   "execution_count": 9,
   "metadata": {
    "pycharm": {
     "name": "#%%\n"
    }
   },
   "outputs": [
    {
     "data": {
      "text/plain": "array([[ 5.00000000e+00,  1.00000000e+00, -6.24500451e-17,\n         2.00000000e+00,  1.00000000e+00],\n       [-6.93889390e-18,  4.00000000e+00, -7.28583860e-17,\n         1.00000000e+00,  2.00000000e+00],\n       [ 1.00000000e+00,  1.00000000e+00,  4.00000000e+00,\n         1.00000000e+00,  1.00000000e+00],\n       [ 0.00000000e+00,  1.00000000e+00,  2.00000000e+00,\n         6.00000000e+00, -5.55111512e-17],\n       [-1.38777878e-17, -9.19403442e-17,  1.00000000e+00,\n         2.00000000e+00,  4.00000000e+00]])"
     },
     "execution_count": 9,
     "metadata": {},
     "output_type": "execute_result"
    }
   ],
   "source": [
    "gauss_partial_pivoting @ m"
   ]
  },
  {
   "cell_type": "code",
   "execution_count": 10,
   "metadata": {
    "pycharm": {
     "name": "#%%\n"
    }
   },
   "outputs": [
    {
     "data": {
      "text/plain": "array([[5., 1., 0., 2., 1.],\n       [0., 4., 0., 1., 2.],\n       [1., 1., 4., 1., 1.],\n       [0., 1., 2., 6., 0.],\n       [0., 0., 1., 2., 4.]])"
     },
     "execution_count": 10,
     "metadata": {},
     "output_type": "execute_result"
    }
   ],
   "source": [
    "gauss_partial_pivoting"
   ]
  },
  {
   "cell_type": "code",
   "execution_count": 13,
   "outputs": [],
   "source": [
    "inv = hist.get_acum_op_matrix()"
   ],
   "metadata": {
    "collapsed": false,
    "pycharm": {
     "name": "#%%\n"
    }
   }
  },
  {
   "cell_type": "code",
   "execution_count": 15,
   "outputs": [
    {
     "data": {
      "text/plain": "array([[ True,  True,  True,  True,  True],\n       [ True,  True,  True,  True,  True],\n       [ True,  True,  True,  True,  True],\n       [ True,  True,  True,  True,  True],\n       [ True,  True,  True,  True,  True]])"
     },
     "execution_count": 15,
     "metadata": {},
     "output_type": "execute_result"
    }
   ],
   "source": [
    "np.isclose(gauss_partial_pivoting @ inv, np.eye(5))"
   ],
   "metadata": {
    "collapsed": false,
    "pycharm": {
     "name": "#%%\n"
    }
   }
  },
  {
   "cell_type": "code",
   "execution_count": 16,
   "outputs": [
    {
     "data": {
      "text/plain": "array([[ 1.00000000e+00, -2.08166817e-17,  3.46944695e-18,\n        -8.32667268e-17,  0.00000000e+00],\n       [ 1.73472348e-18,  1.00000000e+00, -6.93889390e-18,\n         0.00000000e+00,  0.00000000e+00],\n       [-9.54097912e-18, -2.08166817e-17,  1.00000000e+00,\n         0.00000000e+00,  0.00000000e+00],\n       [ 1.38777878e-17,  0.00000000e+00, -2.77555756e-17,\n         1.00000000e+00,  6.93889390e-18],\n       [ 3.46944695e-18, -2.77555756e-17, -1.38777878e-17,\n         0.00000000e+00,  1.00000000e+00]])"
     },
     "execution_count": 16,
     "metadata": {},
     "output_type": "execute_result"
    }
   ],
   "source": [
    "gauss_partial_pivoting @ inv"
   ],
   "metadata": {
    "collapsed": false,
    "pycharm": {
     "name": "#%%\n"
    }
   }
  },
  {
   "cell_type": "code",
   "execution_count": null,
   "outputs": [],
   "source": [],
   "metadata": {
    "collapsed": false,
    "pycharm": {
     "name": "#%%\n"
    }
   }
  }
 ],
 "metadata": {
  "kernelspec": {
   "display_name": "Python 3 (ipykernel)",
   "language": "python",
   "name": "python3"
  },
  "language_info": {
   "codemirror_mode": {
    "name": "ipython",
    "version": 3
   },
   "file_extension": ".py",
   "mimetype": "text/x-python",
   "name": "python",
   "nbconvert_exporter": "python",
   "pygments_lexer": "ipython3",
   "version": "3.10.0"
  }
 },
 "nbformat": 4,
 "nbformat_minor": 1
}