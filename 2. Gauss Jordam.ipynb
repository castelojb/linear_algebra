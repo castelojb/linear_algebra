{
 "cells": [
  {
   "cell_type": "code",
   "execution_count": 1,
   "metadata": {
    "collapsed": true
   },
   "outputs": [],
   "source": [
    "import numpy as np\n",
    "from numpy import loadtxt\n",
    "from src.linear_algebra_resolution._history import History"
   ]
  },
  {
   "cell_type": "code",
   "execution_count": 2,
   "outputs": [],
   "source": [
    "gauss_partial_pivoting_b_path = 'test_matrix/gauss_partial_pivoting_b.csv'\n",
    "gauss_partial_pivoting_b = loadtxt(gauss_partial_pivoting_b_path, delimiter=',')\n",
    "\n",
    "gauss_partial_pivoting = gauss_partial_pivoting_b[:,:-1]\n",
    "b = gauss_partial_pivoting_b[:,-1]"
   ],
   "metadata": {
    "collapsed": false,
    "pycharm": {
     "name": "#%%\n"
    }
   }
  },
  {
   "cell_type": "code",
   "execution_count": 3,
   "outputs": [
    {
     "data": {
      "text/plain": "array([[5., 1., 0., 2., 1.],\n       [0., 4., 0., 1., 2.],\n       [1., 1., 4., 1., 1.],\n       [0., 1., 2., 6., 0.],\n       [0., 0., 1., 2., 4.]])"
     },
     "execution_count": 3,
     "metadata": {},
     "output_type": "execute_result"
    }
   ],
   "source": [
    "gauss_partial_pivoting"
   ],
   "metadata": {
    "collapsed": false,
    "pycharm": {
     "name": "#%%\n"
    }
   }
  },
  {
   "cell_type": "code",
   "execution_count": 4,
   "outputs": [],
   "source": [
    "def partial_pivotation(x_b: np.ndarray, center_idx: int, history: History) -> tuple[np.ndarray, bool, History]:\n",
    "\tn = x_b.shape[0]\n",
    "\tx_b = x_b.copy()\n",
    "\n",
    "\tsucess = False\n",
    "\tfor rown in range(center_idx + 1, n):\n",
    "\n",
    "\t\ttest_value = x_b[rown, center_idx]\n",
    "\n",
    "\t\tif not np.isclose(test_value, 0):\n",
    "\t\t\tx_b = history.acum_operation_and_apply(\n",
    "\t\t\t\thistory.permutation_rown,\n",
    "\t\t\t\torigin_rown_idx=center_idx,\n",
    "\t\t\t\tdest_rown_idx=rown,\n",
    "\t\t\t\tmatrix=x_b,\n",
    "\t\t\t\tshape=n\n",
    "\t\t\t)\n",
    "\t\t\tsucess = True\n",
    "\t\t\tbreak\n",
    "\n",
    "\treturn x_b, sucess, history"
   ],
   "metadata": {
    "collapsed": false,
    "pycharm": {
     "name": "#%%\n"
    }
   }
  },
  {
   "cell_type": "code",
   "execution_count": 5,
   "outputs": [],
   "source": [
    "def total_pivotation(x_b: np.ndarray, center_idx: int, resp_arr_idx: np.ndarray, history: History) -> tuple[np.ndarray, np.ndarray, bool, History]:\n",
    "\tn = x_b.shape[0]\n",
    "\tx_b = x_b.copy()\n",
    "\tresp_arr_idx = resp_arr_idx.copy()\n",
    "\n",
    "\tsucess = False\n",
    "\tfor col in range(center_idx + 1, n):\n",
    "\n",
    "\t\ttest_value = x_b[center_idx, col]\n",
    "\n",
    "\t\tif not np.isclose(test_value, 0):\n",
    "\n",
    "\t\t\tx_b, resp_arr_idx = history.acum_operation_and_apply(\n",
    "\t\t\t\thistory.permutation_col,\n",
    "\t\t\t\torigin_rown_idx=center_idx,\n",
    "\t\t\t\tdest_rown_idx=col,\n",
    "\t\t\t\tidx_arr=resp_arr_idx,\n",
    "\t\t\t\tmatrix=x_b,\n",
    "\t\t\t\tshape=n\n",
    "\t\t\t)\n",
    "\t\t\tsucess = True\n",
    "\t\t\tbreak\n",
    "\n",
    "\treturn x_b, resp_arr_idx, sucess, history"
   ],
   "metadata": {
    "collapsed": false,
    "pycharm": {
     "name": "#%%\n"
    }
   }
  },
  {
   "cell_type": "code",
   "execution_count": 6,
   "outputs": [],
   "source": [
    "def process_matrix_correction(x_b: np.ndarray, center_idx: int, resp_arr_idx: np.ndarray, history: History) -> tuple[np.ndarray, np.ndarray, History]:\n",
    "\n",
    "\tx_b, sucess, history = partial_pivotation(x_b, center_idx, history)\n",
    "\n",
    "\tif not sucess:\n",
    "\t\tx_b, resp_arr_idx, sucess, history = total_pivotation(x_b, center_idx, resp_arr_idx, history)\n",
    "\t\tprint('aq')\n",
    "\n",
    "\tif not sucess:\n",
    "\t\terr_txt = f\"\"\"\\n{x_b} not exists valid value values to pivot number {center_idx}\"\"\"\n",
    "\n",
    "\t\traise NameError(err_txt)\n",
    "\n",
    "\treturn x_b, resp_arr_idx, history"
   ],
   "metadata": {
    "collapsed": false,
    "pycharm": {
     "name": "#%%\n"
    }
   }
  },
  {
   "cell_type": "code",
   "execution_count": 7,
   "outputs": [],
   "source": [
    "def backward_substitution(x_b: np.ndarray) -> np.ndarray:\n",
    "\tn = x_b.shape[0]\n",
    "\n",
    "\tx = np.empty(n)\n",
    "\n",
    "\tx[n - 1] = x_b[n - 1, n] / x_b[n - 1, n - 1]\n",
    "\n",
    "\tfor i in range(n - 2, -1, -1):\n",
    "\t\tx[i] = x_b[i, n]\n",
    "\n",
    "\t\tfor j in range(i + 1, n):\n",
    "\t\t\tx[i] = x[i] - x_b[i, j] * x[j]\n",
    "\n",
    "\t\tx[i] = x[i] / x_b[i, i]\n",
    "\n",
    "\treturn x"
   ],
   "metadata": {
    "collapsed": false,
    "pycharm": {
     "name": "#%%\n"
    }
   }
  },
  {
   "cell_type": "code",
   "execution_count": 8,
   "outputs": [],
   "source": [
    "def gauss_forward_elimination(x_b: np.ndarray, history: History) -> tuple[np.ndarray, np.ndarray, History]:\n",
    "\n",
    "\tx_b = x_b.copy()\n",
    "\tn = x_b.shape[0]\n",
    "\n",
    "\tresp_order = np.arange(n, dtype=int)\n",
    "\n",
    "\tfor i in range(n):\n",
    "\n",
    "\t\tif np.isclose(x_b[i, i], 0):\n",
    "\t\t\tx_b, resp_order, history = process_matrix_correction(x_b, i, resp_order, history)\n",
    "\n",
    "\t\tfor j in range(i + 1, n):\n",
    "\t\t\talpha = x_b[j, i] / x_b[i, i]\n",
    "\n",
    "\t\t\tx_b = history.acum_operation_and_apply(\n",
    "\t\t\t\thistory.multiply_and_subtract_rown,\n",
    "\t\t\t\torigin_rown_idx=i,\n",
    "\t\t\t\tdest_rown_idx=j,\n",
    "\t\t\t\tmatrix=x_b.copy(),\n",
    "\t\t\t\tshape=n,\n",
    "\t\t\t\tcoef=alpha,\n",
    "\t\t\t)\n",
    "\n",
    "\treturn x_b, resp_order, history"
   ],
   "metadata": {
    "collapsed": false,
    "pycharm": {
     "name": "#%%\n"
    }
   }
  },
  {
   "cell_type": "code",
   "execution_count": 9,
   "outputs": [],
   "source": [
    "def gaussian_elimination(x: np.ndarray, b: np.ndarray) -> tuple[np.ndarray, History]:\n",
    "\n",
    "\thistory = History(x)\n",
    "\n",
    "\tx_b = np.column_stack([x, b])\n",
    "\n",
    "\tx_forward, resp_order, history = gauss_forward_elimination(x_b, history)\n",
    "\n",
    "\tresp = backward_substitution(x_forward)\n",
    "\n",
    "\treturn resp[resp_order], history"
   ],
   "metadata": {
    "collapsed": false,
    "pycharm": {
     "name": "#%%\n"
    }
   }
  },
  {
   "cell_type": "code",
   "execution_count": 17,
   "outputs": [],
   "source": [
    "resp, history = gaussian_elimination(gauss_partial_pivoting, b)"
   ],
   "metadata": {
    "collapsed": false,
    "pycharm": {
     "name": "#%%\n"
    }
   }
  },
  {
   "cell_type": "code",
   "execution_count": 18,
   "outputs": [
    {
     "data": {
      "text/plain": "array([1., 2., 3., 4., 5.])"
     },
     "execution_count": 18,
     "metadata": {},
     "output_type": "execute_result"
    }
   ],
   "source": [
    "b"
   ],
   "metadata": {
    "collapsed": false,
    "pycharm": {
     "name": "#%%\n"
    }
   }
  },
  {
   "cell_type": "code",
   "execution_count": 19,
   "outputs": [
    {
     "data": {
      "text/plain": "array([1., 2., 3., 4., 5.])"
     },
     "execution_count": 19,
     "metadata": {},
     "output_type": "execute_result"
    }
   ],
   "source": [
    "gauss_partial_pivoting @ resp"
   ],
   "metadata": {
    "collapsed": false,
    "pycharm": {
     "name": "#%%\n"
    }
   }
  },
  {
   "cell_type": "code",
   "execution_count": 20,
   "outputs": [
    {
     "data": {
      "text/plain": "array([[5., 1., 0., 2., 1.],\n       [0., 4., 0., 1., 2.],\n       [1., 1., 4., 1., 1.],\n       [0., 1., 2., 6., 0.],\n       [0., 0., 1., 2., 4.]])"
     },
     "execution_count": 20,
     "metadata": {},
     "output_type": "execute_result"
    }
   ],
   "source": [
    "history.base_matrix"
   ],
   "metadata": {
    "collapsed": false,
    "pycharm": {
     "name": "#%%\n"
    }
   }
  },
  {
   "cell_type": "code",
   "execution_count": 21,
   "outputs": [],
   "source": [
    "m = history.apply_operations_matrix()"
   ],
   "metadata": {
    "collapsed": false,
    "pycharm": {
     "name": "#%%\n"
    }
   }
  },
  {
   "cell_type": "code",
   "execution_count": 22,
   "outputs": [
    {
     "data": {
      "text/plain": "array([[ 5.        ,  1.        ,  0.        ,  2.        ,  1.        ],\n       [ 0.        ,  4.        ,  0.        ,  1.        ,  2.        ],\n       [ 0.        ,  0.        ,  4.        ,  0.4       ,  0.4       ],\n       [ 0.        ,  0.        ,  0.        ,  5.55      , -0.7       ],\n       [ 0.        ,  0.        ,  0.        ,  0.        ,  4.13963964]])"
     },
     "execution_count": 22,
     "metadata": {},
     "output_type": "execute_result"
    }
   ],
   "source": [
    "m"
   ],
   "metadata": {
    "collapsed": false,
    "pycharm": {
     "name": "#%%\n"
    }
   }
  },
  {
   "cell_type": "code",
   "execution_count": 23,
   "outputs": [
    {
     "data": {
      "text/plain": "[array([[ 1. ,  0. ,  0. ,  0. ,  0. ],\n        [ 0. ,  1. ,  0. ,  0. ,  0. ],\n        [-0.2,  0. ,  1. ,  0. ,  0. ],\n        [ 0. ,  0. ,  0. ,  1. ,  0. ],\n        [ 0. ,  0. ,  0. ,  0. ,  1. ]]),\n array([[ 1. ,  0. ,  0. ,  0. ,  0. ],\n        [ 0. ,  1. ,  0. ,  0. ,  0. ],\n        [ 0. , -0.2,  1. ,  0. ,  0. ],\n        [ 0. ,  0. ,  0. ,  1. ,  0. ],\n        [ 0. ,  0. ,  0. ,  0. ,  1. ]]),\n array([[ 1.  ,  0.  ,  0.  ,  0.  ,  0.  ],\n        [ 0.  ,  1.  ,  0.  ,  0.  ,  0.  ],\n        [ 0.  ,  0.  ,  1.  ,  0.  ,  0.  ],\n        [ 0.  , -0.25,  0.  ,  1.  ,  0.  ],\n        [ 0.  ,  0.  ,  0.  ,  0.  ,  1.  ]]),\n array([[ 1. ,  0. ,  0. ,  0. ,  0. ],\n        [ 0. ,  1. ,  0. ,  0. ,  0. ],\n        [ 0. ,  0. ,  1. ,  0. ,  0. ],\n        [ 0. ,  0. , -0.5,  1. ,  0. ],\n        [ 0. ,  0. ,  0. ,  0. ,  1. ]]),\n array([[ 1.  ,  0.  ,  0.  ,  0.  ,  0.  ],\n        [ 0.  ,  1.  ,  0.  ,  0.  ,  0.  ],\n        [ 0.  ,  0.  ,  1.  ,  0.  ,  0.  ],\n        [ 0.  ,  0.  ,  0.  ,  1.  ,  0.  ],\n        [ 0.  ,  0.  , -0.25,  0.  ,  1.  ]]),\n array([[ 1.        ,  0.        ,  0.        ,  0.        ,  0.        ],\n        [ 0.        ,  1.        ,  0.        ,  0.        ,  0.        ],\n        [ 0.        ,  0.        ,  1.        ,  0.        ,  0.        ],\n        [ 0.        ,  0.        ,  0.        ,  1.        ,  0.        ],\n        [ 0.        ,  0.        ,  0.        , -0.34234234,  1.        ]])]"
     },
     "execution_count": 23,
     "metadata": {},
     "output_type": "execute_result"
    }
   ],
   "source": [
    "history.operations_matrix"
   ],
   "metadata": {
    "collapsed": false,
    "pycharm": {
     "name": "#%%\n"
    }
   }
  },
  {
   "cell_type": "code",
   "execution_count": 16,
   "outputs": [],
   "source": [],
   "metadata": {
    "collapsed": false,
    "pycharm": {
     "name": "#%%\n"
    }
   }
  },
  {
   "cell_type": "code",
   "execution_count": 16,
   "outputs": [],
   "source": [],
   "metadata": {
    "collapsed": false,
    "pycharm": {
     "name": "#%%\n"
    }
   }
  }
 ],
 "metadata": {
  "kernelspec": {
   "display_name": "Python 3",
   "language": "python",
   "name": "python3"
  },
  "language_info": {
   "codemirror_mode": {
    "name": "ipython",
    "version": 2
   },
   "file_extension": ".py",
   "mimetype": "text/x-python",
   "name": "python",
   "nbconvert_exporter": "python",
   "pygments_lexer": "ipython2",
   "version": "2.7.6"
  }
 },
 "nbformat": 4,
 "nbformat_minor": 0
}