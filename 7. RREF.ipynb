{
 "cells": [
  {
   "cell_type": "code",
   "execution_count": 1,
   "outputs": [],
   "source": [
    "from numpy import loadtxt\n",
    "import numpy as np"
   ],
   "metadata": {
    "collapsed": false,
    "pycharm": {
     "name": "#%%\n"
    }
   }
  },
  {
   "cell_type": "code",
   "execution_count": 2,
   "outputs": [],
   "source": [
    "path = 'test_matrix/rref.csv'\n",
    "x_b = loadtxt(path, delimiter=',')\n",
    "\n",
    "x = x_b"
   ],
   "metadata": {
    "collapsed": false,
    "pycharm": {
     "name": "#%%\n"
    }
   }
  },
  {
   "cell_type": "code",
   "execution_count": 3,
   "outputs": [
    {
     "data": {
      "text/plain": "array([[  1.,   2.,  -1.,  -4.],\n       [  2.,   3.,  -1., -11.],\n       [ -2.,   0.,  -3.,  22.]])"
     },
     "execution_count": 3,
     "metadata": {},
     "output_type": "execute_result"
    }
   ],
   "source": [
    "x"
   ],
   "metadata": {
    "collapsed": false,
    "pycharm": {
     "name": "#%%\n"
    }
   }
  },
  {
   "cell_type": "code",
   "execution_count": 6,
   "outputs": [],
   "source": [
    "def reduced_row_echelon_form(x: np.ndarray) -> np.ndarray:\n",
    "\n",
    "    x = x.copy()\n",
    "\n",
    "    n, m = x.shape\n",
    "\n",
    "    lead = 0\n",
    "\n",
    "    for k in range(n):\n",
    "\n",
    "        if lead >= m:\n",
    "            return x\n",
    "\n",
    "        i = k\n",
    "        while np.isclose(x[i, lead], 0):\n",
    "            i += 1\n",
    "\n",
    "            if i == n:\n",
    "                i = k\n",
    "                lead += 1\n",
    "                if m == lead:\n",
    "                    return x\n",
    "\n",
    "        x[i], x[k] = x[k], x[i]\n",
    "        lv = x[k, lead]\n",
    "\n",
    "        x[k] = x[k] / lv\n",
    "\n",
    "        for i in range(n):\n",
    "            if i != k:\n",
    "                lv = x[i, lead]\n",
    "                x[i] = x[i] - lv * x[k]\n",
    "        lead += 1\n",
    "    return x"
   ],
   "metadata": {
    "collapsed": false,
    "pycharm": {
     "name": "#%%\n"
    }
   }
  },
  {
   "cell_type": "code",
   "execution_count": 8,
   "outputs": [],
   "source": [
    "rref_form = reduced_row_echelon_form(x)"
   ],
   "metadata": {
    "collapsed": false,
    "pycharm": {
     "name": "#%%\n"
    }
   }
  },
  {
   "cell_type": "code",
   "execution_count": 9,
   "outputs": [
    {
     "data": {
      "text/plain": "array([[ 1.,  0.,  0., -8.],\n       [-0.,  1.,  0.,  1.],\n       [-0., -0.,  1., -2.]])"
     },
     "execution_count": 9,
     "metadata": {},
     "output_type": "execute_result"
    }
   ],
   "source": [
    "rref_form"
   ],
   "metadata": {
    "collapsed": false,
    "pycharm": {
     "name": "#%%\n"
    }
   }
  },
  {
   "cell_type": "code",
   "execution_count": null,
   "outputs": [],
   "source": [],
   "metadata": {
    "collapsed": false,
    "pycharm": {
     "name": "#%%\n"
    }
   }
  }
 ],
 "metadata": {
  "kernelspec": {
   "display_name": "Python 3",
   "language": "python",
   "name": "python3"
  },
  "language_info": {
   "codemirror_mode": {
    "name": "ipython",
    "version": 2
   },
   "file_extension": ".py",
   "mimetype": "text/x-python",
   "name": "python",
   "nbconvert_exporter": "python",
   "pygments_lexer": "ipython2",
   "version": "2.7.6"
  }
 },
 "nbformat": 4,
 "nbformat_minor": 0
}