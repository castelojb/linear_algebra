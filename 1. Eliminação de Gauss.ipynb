{
 "nbformat": 4,
 "nbformat_minor": 0,
 "metadata": {
  "colab": {
   "provenance": [],
   "collapsed_sections": [
    "PHGU3P43gUOD",
    "ujwCVJ-HgZRW",
    "nsn5HU9Pgjrf",
    "IRG6wWQRguAB"
   ],
   "mount_file_id": "1HecV-ib_7a2K67CdEYBDwMqhfSNQ-MpK",
   "authorship_tag": "ABX9TyPDkaqMKVzIe5Q74aoC4qNX"
  },
  "kernelspec": {
   "name": "python3",
   "display_name": "Python 3"
  },
  "language_info": {
   "name": "python"
  }
 },
 "cells": [
  {
   "cell_type": "markdown",
   "source": [
    "# Bibliotecas Algebricas"
   ],
   "metadata": {
    "id": "PHGU3P43gUOD"
   }
  },
  {
   "cell_type": "code",
   "execution_count": 1,
   "metadata": {
    "id": "mEro5IySf7-o",
    "executionInfo": {
     "status": "ok",
     "timestamp": 1662496633738,
     "user_tz": 180,
     "elapsed": 5,
     "user": {
      "displayName": "João Castelo Branco",
      "userId": "11995656508233092537"
     }
    }
   },
   "outputs": [],
   "source": [
    "from src.linear_algebra_resolution.gaussian_elimination import gaussian_elimination\n",
    "import numpy as np\n",
    "from numpy import loadtxt"
   ]
  },
  {
   "cell_type": "markdown",
   "source": [
    "# Testando o Sistema"
   ],
   "metadata": {
    "id": "xSaka9WphEf8"
   }
  },
  {
   "cell_type": "markdown",
   "source": [
    "## Pivotação Parcial"
   ],
   "metadata": {
    "id": "u3-SXpxghG_h"
   }
  },
  {
   "cell_type": "code",
   "source": [
    "gauss_partial_pivoting_b_path = 'test_matrix/linear_resolution_simple_b.csv'\n",
    "gauss_partial_pivoting_b = loadtxt(gauss_partial_pivoting_b_path, delimiter=',')\n",
    "\n",
    "gauss_partial_pivoting = gauss_partial_pivoting_b[:,:-1]\n",
    "b = gauss_partial_pivoting_b[:,-1]"
   ],
   "metadata": {
    "id": "bIxRJU2odzxL",
    "executionInfo": {
     "status": "ok",
     "timestamp": 1662496633739,
     "user_tz": 180,
     "elapsed": 4,
     "user": {
      "displayName": "João Castelo Branco",
      "userId": "11995656508233092537"
     }
    }
   },
   "execution_count": 3,
   "outputs": []
  },
  {
   "cell_type": "code",
   "source": [
    "gauss_partial_pivoting"
   ],
   "metadata": {
    "colab": {
     "base_uri": "https://localhost:8080/"
    },
    "id": "VvyI3v4JexIQ",
    "executionInfo": {
     "status": "ok",
     "timestamp": 1662496634196,
     "user_tz": 180,
     "elapsed": 460,
     "user": {
      "displayName": "João Castelo Branco",
      "userId": "11995656508233092537"
     }
    },
    "outputId": "827a38d9-42c6-464d-9b8c-8c2b4a3a6f81"
   },
   "execution_count": 4,
   "outputs": [
    {
     "data": {
      "text/plain": "array([[5., 1., 0., 2., 1.],\n       [0., 4., 0., 1., 2.],\n       [1., 1., 4., 1., 1.],\n       [0., 1., 2., 6., 0.],\n       [0., 0., 1., 2., 4.]])"
     },
     "execution_count": 4,
     "metadata": {},
     "output_type": "execute_result"
    }
   ]
  },
  {
   "cell_type": "code",
   "source": [
    "b"
   ],
   "metadata": {
    "colab": {
     "base_uri": "https://localhost:8080/"
    },
    "id": "idlfzFowey_P",
    "executionInfo": {
     "status": "ok",
     "timestamp": 1662496634197,
     "user_tz": 180,
     "elapsed": 7,
     "user": {
      "displayName": "João Castelo Branco",
      "userId": "11995656508233092537"
     }
    },
    "outputId": "a2df5005-2608-424c-d71d-40df95b659eb"
   },
   "execution_count": 5,
   "outputs": [
    {
     "data": {
      "text/plain": "array([1., 2., 3., 4., 5.])"
     },
     "execution_count": 5,
     "metadata": {},
     "output_type": "execute_result"
    }
   ]
  },
  {
   "cell_type": "code",
   "source": [
    "resp, hist, forward_matrix = gaussian_elimination(gauss_partial_pivoting, b)\n",
    "gauss_partial_pivoting @ resp"
   ],
   "metadata": {
    "colab": {
     "base_uri": "https://localhost:8080/"
    },
    "id": "TSGsE0BqvxPC",
    "executionInfo": {
     "status": "ok",
     "timestamp": 1662496634197,
     "user_tz": 180,
     "elapsed": 5,
     "user": {
      "displayName": "João Castelo Branco",
      "userId": "11995656508233092537"
     }
    },
    "outputId": "8b28db31-b6e0-46d1-ca76-0d2c4fea3ae4"
   },
   "execution_count": 6,
   "outputs": [
    {
     "data": {
      "text/plain": "array([1., 2., 3., 4., 5.])"
     },
     "execution_count": 6,
     "metadata": {},
     "output_type": "execute_result"
    }
   ]
  },
  {
   "cell_type": "markdown",
   "source": [
    "## Pivotação Total"
   ],
   "metadata": {
    "id": "Gy2bSGDHhJrj"
   }
  },
  {
   "cell_type": "code",
   "source": [
    "gauss_total_pivoting_b_path = 'test_matrix/gauss_total_pivoting_b.csv'\n",
    "gauss_total_pivoting_b = loadtxt(gauss_total_pivoting_b_path, delimiter=',')\n",
    "\n",
    "gauss_total_pivoting = gauss_total_pivoting_b[:,:-1]\n",
    "b = gauss_total_pivoting_b[:,-1]"
   ],
   "metadata": {
    "id": "7UnEp2CowYHw",
    "executionInfo": {
     "status": "ok",
     "timestamp": 1662496634197,
     "user_tz": 180,
     "elapsed": 5,
     "user": {
      "displayName": "João Castelo Branco",
      "userId": "11995656508233092537"
     }
    }
   },
   "execution_count": 7,
   "outputs": [
    {
     "ename": "FileNotFoundError",
     "evalue": "test_matrix/gauss_total_pivoting_b.csv not found.",
     "output_type": "error",
     "traceback": [
      "\u001B[1;31m---------------------------------------------------------------------------\u001B[0m",
      "\u001B[1;31mFileNotFoundError\u001B[0m                         Traceback (most recent call last)",
      "Cell \u001B[1;32mIn [7], line 2\u001B[0m\n\u001B[0;32m      1\u001B[0m gauss_total_pivoting_b_path \u001B[38;5;241m=\u001B[39m \u001B[38;5;124m'\u001B[39m\u001B[38;5;124mtest_matrix/gauss_total_pivoting_b.csv\u001B[39m\u001B[38;5;124m'\u001B[39m\n\u001B[1;32m----> 2\u001B[0m gauss_total_pivoting_b \u001B[38;5;241m=\u001B[39m \u001B[43mloadtxt\u001B[49m\u001B[43m(\u001B[49m\u001B[43mgauss_total_pivoting_b_path\u001B[49m\u001B[43m,\u001B[49m\u001B[43m \u001B[49m\u001B[43mdelimiter\u001B[49m\u001B[38;5;241;43m=\u001B[39;49m\u001B[38;5;124;43m'\u001B[39;49m\u001B[38;5;124;43m,\u001B[39;49m\u001B[38;5;124;43m'\u001B[39;49m\u001B[43m)\u001B[49m\n\u001B[0;32m      4\u001B[0m gauss_total_pivoting \u001B[38;5;241m=\u001B[39m gauss_total_pivoting_b[:,:\u001B[38;5;241m-\u001B[39m\u001B[38;5;241m1\u001B[39m]\n\u001B[0;32m      5\u001B[0m b \u001B[38;5;241m=\u001B[39m gauss_total_pivoting_b[:,\u001B[38;5;241m-\u001B[39m\u001B[38;5;241m1\u001B[39m]\n",
      "File \u001B[1;32m~\\WorkspacePython\\linear_algebra\\venv\\lib\\site-packages\\numpy\\lib\\npyio.py:1313\u001B[0m, in \u001B[0;36mloadtxt\u001B[1;34m(fname, dtype, comments, delimiter, converters, skiprows, usecols, unpack, ndmin, encoding, max_rows, quotechar, like)\u001B[0m\n\u001B[0;32m   1310\u001B[0m \u001B[38;5;28;01mif\u001B[39;00m \u001B[38;5;28misinstance\u001B[39m(delimiter, \u001B[38;5;28mbytes\u001B[39m):\n\u001B[0;32m   1311\u001B[0m     delimiter \u001B[38;5;241m=\u001B[39m delimiter\u001B[38;5;241m.\u001B[39mdecode(\u001B[38;5;124m'\u001B[39m\u001B[38;5;124mlatin1\u001B[39m\u001B[38;5;124m'\u001B[39m)\n\u001B[1;32m-> 1313\u001B[0m arr \u001B[38;5;241m=\u001B[39m \u001B[43m_read\u001B[49m\u001B[43m(\u001B[49m\u001B[43mfname\u001B[49m\u001B[43m,\u001B[49m\u001B[43m \u001B[49m\u001B[43mdtype\u001B[49m\u001B[38;5;241;43m=\u001B[39;49m\u001B[43mdtype\u001B[49m\u001B[43m,\u001B[49m\u001B[43m \u001B[49m\u001B[43mcomment\u001B[49m\u001B[38;5;241;43m=\u001B[39;49m\u001B[43mcomment\u001B[49m\u001B[43m,\u001B[49m\u001B[43m \u001B[49m\u001B[43mdelimiter\u001B[49m\u001B[38;5;241;43m=\u001B[39;49m\u001B[43mdelimiter\u001B[49m\u001B[43m,\u001B[49m\n\u001B[0;32m   1314\u001B[0m \u001B[43m            \u001B[49m\u001B[43mconverters\u001B[49m\u001B[38;5;241;43m=\u001B[39;49m\u001B[43mconverters\u001B[49m\u001B[43m,\u001B[49m\u001B[43m \u001B[49m\u001B[43mskiplines\u001B[49m\u001B[38;5;241;43m=\u001B[39;49m\u001B[43mskiprows\u001B[49m\u001B[43m,\u001B[49m\u001B[43m \u001B[49m\u001B[43musecols\u001B[49m\u001B[38;5;241;43m=\u001B[39;49m\u001B[43musecols\u001B[49m\u001B[43m,\u001B[49m\n\u001B[0;32m   1315\u001B[0m \u001B[43m            \u001B[49m\u001B[43munpack\u001B[49m\u001B[38;5;241;43m=\u001B[39;49m\u001B[43munpack\u001B[49m\u001B[43m,\u001B[49m\u001B[43m \u001B[49m\u001B[43mndmin\u001B[49m\u001B[38;5;241;43m=\u001B[39;49m\u001B[43mndmin\u001B[49m\u001B[43m,\u001B[49m\u001B[43m \u001B[49m\u001B[43mencoding\u001B[49m\u001B[38;5;241;43m=\u001B[39;49m\u001B[43mencoding\u001B[49m\u001B[43m,\u001B[49m\n\u001B[0;32m   1316\u001B[0m \u001B[43m            \u001B[49m\u001B[43mmax_rows\u001B[49m\u001B[38;5;241;43m=\u001B[39;49m\u001B[43mmax_rows\u001B[49m\u001B[43m,\u001B[49m\u001B[43m \u001B[49m\u001B[43mquote\u001B[49m\u001B[38;5;241;43m=\u001B[39;49m\u001B[43mquotechar\u001B[49m\u001B[43m)\u001B[49m\n\u001B[0;32m   1318\u001B[0m \u001B[38;5;28;01mreturn\u001B[39;00m arr\n",
      "File \u001B[1;32m~\\WorkspacePython\\linear_algebra\\venv\\lib\\site-packages\\numpy\\lib\\npyio.py:955\u001B[0m, in \u001B[0;36m_read\u001B[1;34m(fname, delimiter, comment, quote, imaginary_unit, usecols, skiplines, max_rows, converters, ndmin, unpack, dtype, encoding)\u001B[0m\n\u001B[0;32m    953\u001B[0m     fname \u001B[38;5;241m=\u001B[39m os\u001B[38;5;241m.\u001B[39mfspath(fname)\n\u001B[0;32m    954\u001B[0m \u001B[38;5;28;01mif\u001B[39;00m \u001B[38;5;28misinstance\u001B[39m(fname, \u001B[38;5;28mstr\u001B[39m):\n\u001B[1;32m--> 955\u001B[0m     fh \u001B[38;5;241m=\u001B[39m \u001B[43mnp\u001B[49m\u001B[38;5;241;43m.\u001B[39;49m\u001B[43mlib\u001B[49m\u001B[38;5;241;43m.\u001B[39;49m\u001B[43m_datasource\u001B[49m\u001B[38;5;241;43m.\u001B[39;49m\u001B[43mopen\u001B[49m\u001B[43m(\u001B[49m\u001B[43mfname\u001B[49m\u001B[43m,\u001B[49m\u001B[43m \u001B[49m\u001B[38;5;124;43m'\u001B[39;49m\u001B[38;5;124;43mrt\u001B[39;49m\u001B[38;5;124;43m'\u001B[39;49m\u001B[43m,\u001B[49m\u001B[43m \u001B[49m\u001B[43mencoding\u001B[49m\u001B[38;5;241;43m=\u001B[39;49m\u001B[43mencoding\u001B[49m\u001B[43m)\u001B[49m\n\u001B[0;32m    956\u001B[0m     \u001B[38;5;28;01mif\u001B[39;00m encoding \u001B[38;5;129;01mis\u001B[39;00m \u001B[38;5;28;01mNone\u001B[39;00m:\n\u001B[0;32m    957\u001B[0m         encoding \u001B[38;5;241m=\u001B[39m \u001B[38;5;28mgetattr\u001B[39m(fh, \u001B[38;5;124m'\u001B[39m\u001B[38;5;124mencoding\u001B[39m\u001B[38;5;124m'\u001B[39m, \u001B[38;5;124m'\u001B[39m\u001B[38;5;124mlatin1\u001B[39m\u001B[38;5;124m'\u001B[39m)\n",
      "File \u001B[1;32m~\\WorkspacePython\\linear_algebra\\venv\\lib\\site-packages\\numpy\\lib\\_datasource.py:193\u001B[0m, in \u001B[0;36mopen\u001B[1;34m(path, mode, destpath, encoding, newline)\u001B[0m\n\u001B[0;32m    156\u001B[0m \u001B[38;5;124;03m\"\"\"\u001B[39;00m\n\u001B[0;32m    157\u001B[0m \u001B[38;5;124;03mOpen `path` with `mode` and return the file object.\u001B[39;00m\n\u001B[0;32m    158\u001B[0m \n\u001B[1;32m   (...)\u001B[0m\n\u001B[0;32m    189\u001B[0m \n\u001B[0;32m    190\u001B[0m \u001B[38;5;124;03m\"\"\"\u001B[39;00m\n\u001B[0;32m    192\u001B[0m ds \u001B[38;5;241m=\u001B[39m DataSource(destpath)\n\u001B[1;32m--> 193\u001B[0m \u001B[38;5;28;01mreturn\u001B[39;00m \u001B[43mds\u001B[49m\u001B[38;5;241;43m.\u001B[39;49m\u001B[43mopen\u001B[49m\u001B[43m(\u001B[49m\u001B[43mpath\u001B[49m\u001B[43m,\u001B[49m\u001B[43m \u001B[49m\u001B[43mmode\u001B[49m\u001B[43m,\u001B[49m\u001B[43m \u001B[49m\u001B[43mencoding\u001B[49m\u001B[38;5;241;43m=\u001B[39;49m\u001B[43mencoding\u001B[49m\u001B[43m,\u001B[49m\u001B[43m \u001B[49m\u001B[43mnewline\u001B[49m\u001B[38;5;241;43m=\u001B[39;49m\u001B[43mnewline\u001B[49m\u001B[43m)\u001B[49m\n",
      "File \u001B[1;32m~\\WorkspacePython\\linear_algebra\\venv\\lib\\site-packages\\numpy\\lib\\_datasource.py:533\u001B[0m, in \u001B[0;36mDataSource.open\u001B[1;34m(self, path, mode, encoding, newline)\u001B[0m\n\u001B[0;32m    530\u001B[0m     \u001B[38;5;28;01mreturn\u001B[39;00m _file_openers[ext](found, mode\u001B[38;5;241m=\u001B[39mmode,\n\u001B[0;32m    531\u001B[0m                               encoding\u001B[38;5;241m=\u001B[39mencoding, newline\u001B[38;5;241m=\u001B[39mnewline)\n\u001B[0;32m    532\u001B[0m \u001B[38;5;28;01melse\u001B[39;00m:\n\u001B[1;32m--> 533\u001B[0m     \u001B[38;5;28;01mraise\u001B[39;00m \u001B[38;5;167;01mFileNotFoundError\u001B[39;00m(\u001B[38;5;124mf\u001B[39m\u001B[38;5;124m\"\u001B[39m\u001B[38;5;132;01m{\u001B[39;00mpath\u001B[38;5;132;01m}\u001B[39;00m\u001B[38;5;124m not found.\u001B[39m\u001B[38;5;124m\"\u001B[39m)\n",
      "\u001B[1;31mFileNotFoundError\u001B[0m: test_matrix/gauss_total_pivoting_b.csv not found."
     ]
    }
   ]
  },
  {
   "cell_type": "code",
   "source": [
    "resp, hist_, x_forward = gaussian_elimination(gauss_total_pivoting, b)\n",
    "gauss_total_pivoting @ resp"
   ],
   "metadata": {
    "colab": {
     "base_uri": "https://localhost:8080/"
    },
    "id": "qNWfSGfcgImj",
    "executionInfo": {
     "status": "ok",
     "timestamp": 1662496634198,
     "user_tz": 180,
     "elapsed": 4,
     "user": {
      "displayName": "João Castelo Branco",
      "userId": "11995656508233092537"
     }
    },
    "outputId": "1aff2395-9909-464e-bcd7-d0f05c4cd7dc"
   },
   "execution_count": 20,
   "outputs": [
    {
     "data": {
      "text/plain": "array([-0.2,  0.8,  1.5,  1.2])"
     },
     "execution_count": 20,
     "metadata": {},
     "output_type": "execute_result"
    }
   ]
  },
  {
   "cell_type": "code",
   "execution_count": 22,
   "outputs": [
    {
     "data": {
      "text/plain": "array([[ 1. ,  1. ,  1. ,  1. ],\n       [ 0. ,  1. ,  4. , 12. ],\n       [ 0. ,  0. , -2. , -9. ],\n       [ 0. ,  0. ,  0. , -0.5]])"
     },
     "execution_count": 22,
     "metadata": {},
     "output_type": "execute_result"
    }
   ],
   "source": [
    "hist_.apply_operations_matrix()"
   ],
   "metadata": {
    "collapsed": false
   }
  },
  {
   "cell_type": "markdown",
   "source": [
    "## Exibindo mensagem de erro"
   ],
   "metadata": {
    "id": "0os__e8LlII6"
   }
  },
  {
   "cell_type": "code",
   "source": [
    "X_zeros = np.zeros([10, 10])\n",
    "b_zeros = np.zeros(10)\n",
    "\n",
    "gaussian_elimination(X_zeros, b_zeros)"
   ],
   "metadata": {
    "colab": {
     "base_uri": "https://localhost:8080/",
     "height": 520
    },
    "id": "f14WogD6jpgm",
    "executionInfo": {
     "status": "error",
     "timestamp": 1662497336079,
     "user_tz": 180,
     "elapsed": 306,
     "user": {
      "displayName": "João Castelo Branco",
      "userId": "11995656508233092537"
     }
    },
    "outputId": "969ec0b0-55f9-444a-90db-d10658afa08f"
   },
   "execution_count": 10,
   "outputs": [
    {
     "name": "stdout",
     "output_type": "stream",
     "text": [
      "aq\n"
     ]
    },
    {
     "ename": "NameError",
     "evalue": "\n[[0. 0. 0. 0. 0. 0. 0. 0. 0. 0. 0.]\n [0. 0. 0. 0. 0. 0. 0. 0. 0. 0. 0.]\n [0. 0. 0. 0. 0. 0. 0. 0. 0. 0. 0.]\n [0. 0. 0. 0. 0. 0. 0. 0. 0. 0. 0.]\n [0. 0. 0. 0. 0. 0. 0. 0. 0. 0. 0.]\n [0. 0. 0. 0. 0. 0. 0. 0. 0. 0. 0.]\n [0. 0. 0. 0. 0. 0. 0. 0. 0. 0. 0.]\n [0. 0. 0. 0. 0. 0. 0. 0. 0. 0. 0.]\n [0. 0. 0. 0. 0. 0. 0. 0. 0. 0. 0.]\n [0. 0. 0. 0. 0. 0. 0. 0. 0. 0. 0.]] not exists valid value values to pivot number 0",
     "output_type": "error",
     "traceback": [
      "\u001B[1;31m---------------------------------------------------------------------------\u001B[0m",
      "\u001B[1;31mNameError\u001B[0m                                 Traceback (most recent call last)",
      "Cell \u001B[1;32mIn [10], line 4\u001B[0m\n\u001B[0;32m      1\u001B[0m X_zeros \u001B[38;5;241m=\u001B[39m np\u001B[38;5;241m.\u001B[39mzeros([\u001B[38;5;241m10\u001B[39m, \u001B[38;5;241m10\u001B[39m])\n\u001B[0;32m      2\u001B[0m b_zeros \u001B[38;5;241m=\u001B[39m np\u001B[38;5;241m.\u001B[39mzeros(\u001B[38;5;241m10\u001B[39m)\n\u001B[1;32m----> 4\u001B[0m \u001B[43mgaussian_elimination\u001B[49m\u001B[43m(\u001B[49m\u001B[43mX_zeros\u001B[49m\u001B[43m,\u001B[49m\u001B[43m \u001B[49m\u001B[43mb_zeros\u001B[49m\u001B[43m)\u001B[49m\n",
      "File \u001B[1;32m~\\WorkspacePython\\Alg. Linear Computacional\\src\\linear_algebra_resolution\\gaussian_elimination.py:38\u001B[0m, in \u001B[0;36mgaussian_elimination\u001B[1;34m(x, b)\u001B[0m\n\u001B[0;32m     34\u001B[0m history \u001B[38;5;241m=\u001B[39m History(x)\n\u001B[0;32m     36\u001B[0m x_b \u001B[38;5;241m=\u001B[39m np\u001B[38;5;241m.\u001B[39mcolumn_stack([x, b])\n\u001B[1;32m---> 38\u001B[0m x_forward, resp_order, history \u001B[38;5;241m=\u001B[39m \u001B[43mgauss_forward_elimination\u001B[49m\u001B[43m(\u001B[49m\u001B[43mx_b\u001B[49m\u001B[43m,\u001B[49m\u001B[43m \u001B[49m\u001B[43mhistory\u001B[49m\u001B[43m)\u001B[49m\n\u001B[0;32m     40\u001B[0m resp \u001B[38;5;241m=\u001B[39m backward_substitution(x_forward)\n\u001B[0;32m     42\u001B[0m \u001B[38;5;28;01mreturn\u001B[39;00m resp[resp_order], history\n",
      "File \u001B[1;32m~\\WorkspacePython\\Alg. Linear Computacional\\src\\linear_algebra_resolution\\gaussian_elimination.py:15\u001B[0m, in \u001B[0;36mgauss_forward_elimination\u001B[1;34m(x_b, history)\u001B[0m\n\u001B[0;32m     12\u001B[0m \u001B[38;5;28;01mfor\u001B[39;00m i \u001B[38;5;129;01min\u001B[39;00m \u001B[38;5;28mrange\u001B[39m(n):\n\u001B[0;32m     14\u001B[0m \t\u001B[38;5;28;01mif\u001B[39;00m np\u001B[38;5;241m.\u001B[39misclose(x_b[i, i], \u001B[38;5;241m0\u001B[39m):\n\u001B[1;32m---> 15\u001B[0m \t\tx_b, resp_order, history \u001B[38;5;241m=\u001B[39m \u001B[43mprocess_matrix_correction\u001B[49m\u001B[43m(\u001B[49m\u001B[43mx_b\u001B[49m\u001B[43m,\u001B[49m\u001B[43m \u001B[49m\u001B[43mi\u001B[49m\u001B[43m,\u001B[49m\u001B[43m \u001B[49m\u001B[43mresp_order\u001B[49m\u001B[43m,\u001B[49m\u001B[43m \u001B[49m\u001B[43mhistory\u001B[49m\u001B[43m)\u001B[49m\n\u001B[0;32m     17\u001B[0m \t\u001B[38;5;28;01mfor\u001B[39;00m j \u001B[38;5;129;01min\u001B[39;00m \u001B[38;5;28mrange\u001B[39m(i \u001B[38;5;241m+\u001B[39m \u001B[38;5;241m1\u001B[39m, n):\n\u001B[0;32m     18\u001B[0m \t\talpha \u001B[38;5;241m=\u001B[39m x_b[j, i] \u001B[38;5;241m/\u001B[39m x_b[i, i]\n",
      "File \u001B[1;32m~\\WorkspacePython\\Alg. Linear Computacional\\src\\linear_algebra_resolution\\__init__.py:66\u001B[0m, in \u001B[0;36mprocess_matrix_correction\u001B[1;34m(x_b, center_idx, resp_arr_idx, history)\u001B[0m\n\u001B[0;32m     63\u001B[0m \u001B[38;5;28;01mif\u001B[39;00m \u001B[38;5;129;01mnot\u001B[39;00m sucess:\n\u001B[0;32m     64\u001B[0m \terr_txt \u001B[38;5;241m=\u001B[39m \u001B[38;5;124mf\u001B[39m\u001B[38;5;124m\"\"\"\u001B[39m\u001B[38;5;130;01m\\n\u001B[39;00m\u001B[38;5;132;01m{\u001B[39;00mx_b\u001B[38;5;132;01m}\u001B[39;00m\u001B[38;5;124m not exists valid value values to pivot number \u001B[39m\u001B[38;5;132;01m{\u001B[39;00mcenter_idx\u001B[38;5;132;01m}\u001B[39;00m\u001B[38;5;124m\"\"\"\u001B[39m\n\u001B[1;32m---> 66\u001B[0m \t\u001B[38;5;28;01mraise\u001B[39;00m \u001B[38;5;167;01mNameError\u001B[39;00m(err_txt)\n\u001B[0;32m     68\u001B[0m \u001B[38;5;28;01mreturn\u001B[39;00m x_b, resp_arr_idx, history\n",
      "\u001B[1;31mNameError\u001B[0m: \n[[0. 0. 0. 0. 0. 0. 0. 0. 0. 0. 0.]\n [0. 0. 0. 0. 0. 0. 0. 0. 0. 0. 0.]\n [0. 0. 0. 0. 0. 0. 0. 0. 0. 0. 0.]\n [0. 0. 0. 0. 0. 0. 0. 0. 0. 0. 0.]\n [0. 0. 0. 0. 0. 0. 0. 0. 0. 0. 0.]\n [0. 0. 0. 0. 0. 0. 0. 0. 0. 0. 0.]\n [0. 0. 0. 0. 0. 0. 0. 0. 0. 0. 0.]\n [0. 0. 0. 0. 0. 0. 0. 0. 0. 0. 0.]\n [0. 0. 0. 0. 0. 0. 0. 0. 0. 0. 0.]\n [0. 0. 0. 0. 0. 0. 0. 0. 0. 0. 0.]] not exists valid value values to pivot number 0"
     ]
    }
   ]
  },
  {
   "cell_type": "code",
   "execution_count": null,
   "outputs": [],
   "source": [],
   "metadata": {
    "collapsed": false
   }
  }
 ]
}
