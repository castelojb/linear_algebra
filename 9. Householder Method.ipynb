{
 "cells": [
  {
   "cell_type": "code",
   "execution_count": 1,
   "outputs": [],
   "source": [
    "from numpy import loadtxt\n",
    "import numpy as np\n",
    "from src.linear_algebra_resolution.householder_method import householder\n",
    "from src.linear_algebra_resolution.power_methods import regular_power_method\n"
   ],
   "metadata": {
    "collapsed": false,
    "pycharm": {
     "name": "#%%\n"
    }
   }
  },
  {
   "cell_type": "code",
   "execution_count": 7,
   "outputs": [],
   "source": [
    "x = loadtxt('test_matrix/householder_c.csv', delimiter=',')"
   ],
   "metadata": {
    "collapsed": false,
    "pycharm": {
     "name": "#%%\n"
    }
   }
  },
  {
   "cell_type": "code",
   "execution_count": 8,
   "outputs": [
    {
     "data": {
      "text/plain": "array([[38.,  4.,  0.,  0.,  1.],\n       [ 4., 11.,  1.,  4.,  4.],\n       [ 0.,  1., 51.,  0.,  1.],\n       [ 0.,  4.,  0., 36.,  2.],\n       [ 1.,  4.,  1.,  2., 60.]])"
     },
     "execution_count": 8,
     "metadata": {},
     "output_type": "execute_result"
    }
   ],
   "source": [
    "x"
   ],
   "metadata": {
    "collapsed": false,
    "pycharm": {
     "name": "#%%\n"
    }
   }
  },
  {
   "cell_type": "code",
   "execution_count": 9,
   "outputs": [],
   "source": [
    "a_hat, h = householder(x)"
   ],
   "metadata": {
    "collapsed": false,
    "pycharm": {
     "name": "#%%\n"
    }
   }
  },
  {
   "cell_type": "code",
   "execution_count": 10,
   "outputs": [
    {
     "data": {
      "text/plain": "array([[ 3.80000000e+01,  4.12310563e+00,  0.00000000e+00,\n         0.00000000e+00,  0.00000000e+00],\n       [ 4.12310563e+00,  1.57647059e+01,  1.57256980e+01,\n        -4.31382575e-16,  3.73875282e-17],\n       [ 0.00000000e+00,  1.57256980e+01,  5.43509387e+01,\n         4.34939853e+00, -5.50337343e-16],\n       [ 0.00000000e+00,  5.26173487e-16,  4.34939853e+00,\n         3.70884007e+01, -1.27305513e+00],\n       [ 0.00000000e+00,  3.99165315e-16,  9.96733266e-17,\n        -1.27305513e+00,  5.07959547e+01]])"
     },
     "execution_count": 10,
     "metadata": {},
     "output_type": "execute_result"
    }
   ],
   "source": [
    "a_hat"
   ],
   "metadata": {
    "collapsed": false,
    "pycharm": {
     "name": "#%%\n"
    }
   }
  },
  {
   "cell_type": "code",
   "execution_count": 11,
   "outputs": [
    {
     "data": {
      "text/plain": "array([[ 1.        ,  0.        ,  0.        ,  0.        ,  0.        ],\n       [ 0.        ,  0.9701425 , -0.2322505 , -0.06537016, -0.02469774],\n       [ 0.        ,  0.        ,  0.07711442,  0.10078308, -0.99191539],\n       [ 0.        ,  0.        ,  0.27761192, -0.95770423, -0.07572471],\n       [ 0.        ,  0.24253563,  0.92900199,  0.26148064,  0.09879096]])"
     },
     "execution_count": 11,
     "metadata": {},
     "output_type": "execute_result"
    }
   ],
   "source": [
    "h"
   ],
   "metadata": {
    "collapsed": false,
    "pycharm": {
     "name": "#%%\n"
    }
   }
  },
  {
   "cell_type": "code",
   "execution_count": 6,
   "outputs": [],
   "source": [],
   "metadata": {
    "collapsed": false,
    "pycharm": {
     "name": "#%%\n"
    }
   }
  }
 ],
 "metadata": {
  "kernelspec": {
   "display_name": "Python 3",
   "language": "python",
   "name": "python3"
  },
  "language_info": {
   "codemirror_mode": {
    "name": "ipython",
    "version": 2
   },
   "file_extension": ".py",
   "mimetype": "text/x-python",
   "name": "python",
   "nbconvert_exporter": "python",
   "pygments_lexer": "ipython2",
   "version": "2.7.6"
  }
 },
 "nbformat": 4,
 "nbformat_minor": 0
}