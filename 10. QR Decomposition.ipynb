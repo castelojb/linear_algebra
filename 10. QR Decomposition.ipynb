{
 "cells": [
  {
   "cell_type": "code",
   "execution_count": 17,
   "outputs": [],
   "source": [
    "from numpy import loadtxt\n",
    "import numpy as np\n",
    "from src.linear_algebra_resolution.householder_method import householder\n",
    "from src.linear_algebra_resolution.power_methods import inverse_power_method, regular_power_method\n",
    "from src.linear_algebra_resolution.qr_decomposition import qr_decomposition, qr_method"
   ],
   "metadata": {
    "collapsed": false,
    "pycharm": {
     "name": "#%%\n"
    }
   }
  },
  {
   "cell_type": "code",
   "execution_count": 2,
   "outputs": [],
   "source": [
    "x = loadtxt('test_matrix/householder.csv', delimiter=',')"
   ],
   "metadata": {
    "collapsed": false,
    "pycharm": {
     "name": "#%%\n"
    }
   }
  },
  {
   "cell_type": "code",
   "execution_count": 3,
   "outputs": [
    {
     "data": {
      "text/plain": "array([[ 4.,  1., -2.,  2.],\n       [ 1.,  2.,  0.,  1.],\n       [-2.,  0.,  3., -2.],\n       [ 2.,  1., -2., -1.]])"
     },
     "execution_count": 3,
     "metadata": {},
     "output_type": "execute_result"
    }
   ],
   "source": [
    "x"
   ],
   "metadata": {
    "collapsed": false,
    "pycharm": {
     "name": "#%%\n"
    }
   }
  },
  {
   "cell_type": "code",
   "execution_count": 4,
   "outputs": [],
   "source": [
    "a_hat, h = householder(x)"
   ],
   "metadata": {
    "collapsed": false,
    "pycharm": {
     "name": "#%%\n"
    }
   }
  },
  {
   "cell_type": "code",
   "execution_count": 5,
   "outputs": [
    {
     "data": {
      "text/plain": "array([[ 4.00000000e+00,  3.00000000e+00, -1.99840144e-16,\n        -8.43769499e-16],\n       [ 3.00000000e+00,  3.33333333e+00,  1.66666667e+00,\n        -2.88657986e-16],\n       [-1.99840144e-16,  1.66666667e+00, -1.32000000e+00,\n        -9.06666667e-01],\n       [-8.43769499e-16,  2.22044605e-16, -9.06666667e-01,\n         1.98666667e+00]])"
     },
     "execution_count": 5,
     "metadata": {},
     "output_type": "execute_result"
    }
   ],
   "source": [
    "a_hat"
   ],
   "metadata": {
    "collapsed": false,
    "pycharm": {
     "name": "#%%\n"
    }
   }
  },
  {
   "cell_type": "code",
   "execution_count": 6,
   "outputs": [
    {
     "data": {
      "text/plain": "array([[ 1.        ,  0.        ,  0.        ,  0.        ],\n       [ 0.        ,  0.33333333,  0.13333333,  0.93333333],\n       [ 0.        , -0.66666667, -0.66666667,  0.33333333],\n       [ 0.        ,  0.66666667, -0.73333333, -0.13333333]])"
     },
     "execution_count": 6,
     "metadata": {},
     "output_type": "execute_result"
    }
   ],
   "source": [
    "h"
   ],
   "metadata": {
    "collapsed": false,
    "pycharm": {
     "name": "#%%\n"
    }
   }
  },
  {
   "cell_type": "code",
   "execution_count": 22,
   "outputs": [],
   "source": [
    "q, r = qr_method(x, h)"
   ],
   "metadata": {
    "collapsed": false,
    "pycharm": {
     "name": "#%%\n"
    }
   }
  },
  {
   "cell_type": "code",
   "execution_count": 11,
   "outputs": [
    {
     "data": {
      "text/plain": "array([[ 4.,  1., -2.,  2.],\n       [ 1.,  2.,  0.,  1.],\n       [-2.,  0.,  3., -2.],\n       [ 2.,  1., -2., -1.]])"
     },
     "execution_count": 11,
     "metadata": {},
     "output_type": "execute_result"
    }
   ],
   "source": [
    "x"
   ],
   "metadata": {
    "collapsed": false,
    "pycharm": {
     "name": "#%%\n"
    }
   }
  },
  {
   "cell_type": "code",
   "execution_count": 13,
   "outputs": [
    {
     "data": {
      "text/plain": "array([[ 6.84462, -0.     , -0.     ,  0.     ],\n       [-0.     ,  2.26633,  0.09914, -0.     ],\n       [-0.     ,  0.09914, -2.19531,  0.     ],\n       [ 0.     ,  0.     , -0.     ,  1.08436]])"
     },
     "execution_count": 13,
     "metadata": {},
     "output_type": "execute_result"
    }
   ],
   "source": [
    "np.around(q, 5)"
   ],
   "metadata": {
    "collapsed": false,
    "pycharm": {
     "name": "#%%\n"
    }
   }
  },
  {
   "cell_type": "code",
   "execution_count": 14,
   "outputs": [
    {
     "data": {
      "text/plain": "array([[ 0.71805,  0.20559, -0.17218, -0.64226],\n       [ 0.3292 ,  0.33125,  0.84922,  0.24642],\n       [ 0.34192, -0.91429,  0.2148 ,  0.03202],\n       [ 0.50905,  0.1099 , -0.4506 ,  0.72509]])"
     },
     "execution_count": 14,
     "metadata": {},
     "output_type": "execute_result"
    }
   ],
   "source": [
    "np.around(r, 5)"
   ],
   "metadata": {
    "collapsed": false,
    "pycharm": {
     "name": "#%%\n"
    }
   }
  },
  {
   "cell_type": "code",
   "execution_count": 19,
   "outputs": [
    {
     "data": {
      "text/plain": "(array([ 0.71830962,  0.22197083, -0.55692057,  0.35298686]),\n 6.844569183337946,\n True)"
     },
     "execution_count": 19,
     "metadata": {},
     "output_type": "execute_result"
    }
   ],
   "source": [
    "regular_power_method(x)"
   ],
   "metadata": {
    "collapsed": false,
    "pycharm": {
     "name": "#%%\n"
    }
   }
  },
  {
   "cell_type": "code",
   "execution_count": 20,
   "outputs": [],
   "source": [
    "q, r = qr_decomposition(x)"
   ],
   "metadata": {
    "collapsed": false,
    "pycharm": {
     "name": "#%%\n"
    }
   }
  },
  {
   "cell_type": "code",
   "execution_count": 21,
   "outputs": [
    {
     "data": {
      "text/plain": "array([[ 4.00000000e+00,  1.00000000e+00, -2.00000000e+00,\n         2.00000000e+00],\n       [ 1.00000000e+00,  2.00000000e+00, -5.08295319e-16,\n         1.00000000e+00],\n       [-2.00000000e+00, -2.35286067e-16,  3.00000000e+00,\n        -2.00000000e+00],\n       [ 2.00000000e+00,  1.00000000e+00, -2.00000000e+00,\n        -1.00000000e+00]])"
     },
     "execution_count": 21,
     "metadata": {},
     "output_type": "execute_result"
    }
   ],
   "source": [
    "q @ r"
   ],
   "metadata": {
    "collapsed": false,
    "pycharm": {
     "name": "#%%\n"
    }
   }
  },
  {
   "cell_type": "code",
   "execution_count": 23,
   "outputs": [
    {
     "data": {
      "text/plain": "array([[ 6.84462111e+00,  5.70789502e-10,  2.04782022e-08,\n        -1.09837474e-07],\n       [-9.95942856e-08,  6.89347377e-01,  2.36081499e-01,\n         2.14828864e+00],\n       [-5.06451524e-08,  1.49659118e+00,  1.47676246e+00,\n        -6.39237600e-01],\n       [ 8.17356173e-12,  7.22909643e-01, -7.95200607e-01,\n        -1.44581929e-01]])"
     },
     "execution_count": 23,
     "metadata": {},
     "output_type": "execute_result"
    }
   ],
   "source": [
    "q @ h"
   ],
   "metadata": {
    "collapsed": false,
    "pycharm": {
     "name": "#%%\n"
    }
   }
  },
  {
   "cell_type": "code",
   "execution_count": null,
   "outputs": [],
   "source": [],
   "metadata": {
    "collapsed": false,
    "pycharm": {
     "name": "#%%\n"
    }
   }
  }
 ],
 "metadata": {
  "kernelspec": {
   "display_name": "Python 3",
   "language": "python",
   "name": "python3"
  },
  "language_info": {
   "codemirror_mode": {
    "name": "ipython",
    "version": 2
   },
   "file_extension": ".py",
   "mimetype": "text/x-python",
   "name": "python",
   "nbconvert_exporter": "python",
   "pygments_lexer": "ipython2",
   "version": "2.7.6"
  }
 },
 "nbformat": 4,
 "nbformat_minor": 0
}