{
 "cells": [
  {
   "cell_type": "code",
   "execution_count": 1,
   "outputs": [],
   "source": [
    "import scipy as scipy\n",
    "from numpy import loadtxt\n",
    "import numpy as np\n",
    "\n",
    "from src.linear_algebra_resolution.gaussian_elimination import gaussian_elimination\n",
    "from src.linear_algebra_resolution.qr_decomposition import qr_decomposition, qr_method"
   ],
   "metadata": {
    "collapsed": false,
    "pycharm": {
     "name": "#%%\n"
    }
   }
  },
  {
   "cell_type": "code",
   "execution_count": 2,
   "outputs": [],
   "source": [
    "x = loadtxt('test_matrix/householder_not_simetric.csv', delimiter=',')"
   ],
   "metadata": {
    "collapsed": false,
    "pycharm": {
     "name": "#%%\n"
    }
   }
  },
  {
   "cell_type": "code",
   "execution_count": 3,
   "outputs": [
    {
     "data": {
      "text/plain": "array([[66., 78., 47., 85., 20., 61., 36., 13.],\n       [54., 33., 44., 36., 82., 68., 93., 47.],\n       [25., 68., 69.,  2., 11., 13., 74., 82.],\n       [70., 67., 43., 31., 20., 54., 96., 73.],\n       [ 5., 50., 16., 33.,  9.,  8., 54.,  6.],\n       [ 3., 69., 46.,  6., 12.,  6., 53., 57.],\n       [97., 16.,  1., 17., 77.,  2., 42., 18.],\n       [52.,  7., 57., 86.,  1., 43., 98., 79.]])"
     },
     "execution_count": 3,
     "metadata": {},
     "output_type": "execute_result"
    }
   ],
   "source": [
    "x"
   ],
   "metadata": {
    "collapsed": false,
    "pycharm": {
     "name": "#%%\n"
    }
   }
  },
  {
   "cell_type": "code",
   "execution_count": 4,
   "outputs": [
    {
     "data": {
      "text/plain": "array([[66., 54., 25., 70.,  5.,  3., 97., 52.],\n       [78., 33., 68., 67., 50., 69., 16.,  7.],\n       [47., 44., 69., 43., 16., 46.,  1., 57.],\n       [85., 36.,  2., 31., 33.,  6., 17., 86.],\n       [20., 82., 11., 20.,  9., 12., 77.,  1.],\n       [61., 68., 13., 54.,  8.,  6.,  2., 43.],\n       [36., 93., 74., 96., 54., 53., 42., 98.],\n       [13., 47., 82., 73.,  6., 57., 18., 79.]])"
     },
     "execution_count": 4,
     "metadata": {},
     "output_type": "execute_result"
    }
   ],
   "source": [
    "x.T"
   ],
   "metadata": {
    "collapsed": false,
    "pycharm": {
     "name": "#%%\n"
    }
   }
  },
  {
   "cell_type": "code",
   "execution_count": 5,
   "outputs": [
    {
     "data": {
      "text/plain": "(8, 8)"
     },
     "execution_count": 5,
     "metadata": {},
     "output_type": "execute_result"
    }
   ],
   "source": [
    "x.shape"
   ],
   "metadata": {
    "collapsed": false,
    "pycharm": {
     "name": "#%%\n"
    }
   }
  },
  {
   "cell_type": "code",
   "execution_count": 6,
   "outputs": [],
   "source": [
    "eignvalues, eigvectors = qr_method(x)"
   ],
   "metadata": {
    "collapsed": false,
    "pycharm": {
     "name": "#%%\n"
    }
   }
  },
  {
   "cell_type": "code",
   "execution_count": 13,
   "outputs": [
    {
     "data": {
      "text/plain": "array([[ 9.97903228e-01+0.00000000e+00j,  3.62920633e-02+0.00000000e+00j,\n        -1.55782658e-03+0.00000000e+00j, -4.44311404e-02+0.00000000e+00j,\n        -1.83397060e-02+0.00000000e+00j,  2.19624734e-02+0.00000000e+00j,\n         4.45378801e-03+0.00000000e+00j, -7.54651721e-03+0.00000000e+00j],\n       [ 9.93287187e-01+0.00000000e+00j,  7.45656735e-02+0.00000000e+00j,\n        -3.23633240e-02+0.00000000e+00j, -4.13547023e-02+0.00000000e+00j,\n        -4.04532898e-02+0.00000000e+00j,  3.69985614e-02+0.00000000e+00j,\n         4.23300208e-02+0.00000000e+00j, -1.63014046e-02+0.00000000e+00j],\n       [ 9.98244238e-01-1.96127525e-02j,  2.13199266e-02-8.11797543e-04j,\n         1.20463899e-02+1.26931203e-04j, -4.56405482e-02+8.62250375e-04j,\n        -8.50651120e-03+4.28596680e-04j,  1.45669112e-02-4.88684600e-04j,\n        -1.17602287e-02-1.97462328e-04j, -4.03720601e-03+1.69283767e-04j],\n       [ 9.98244238e-01+1.96127525e-02j,  2.13199266e-02+8.11797543e-04j,\n         1.20463899e-02-1.26931203e-04j, -4.56405482e-02-8.62250375e-04j,\n        -8.50651120e-03-4.28596680e-04j,  1.45669112e-02+4.88684600e-04j,\n        -1.17602287e-02+1.97462328e-04j, -4.03720601e-03-1.69283767e-04j],\n       [ 9.98093632e-01+0.00000000e+00j,  3.29273271e-02+0.00000000e+00j,\n         1.43012910e-03+0.00000000e+00j, -4.47058375e-02+0.00000000e+00j,\n        -1.61964512e-02+0.00000000e+00j,  2.03817279e-02+0.00000000e+00j,\n         8.84843546e-04+0.00000000e+00j, -6.76116641e-03+0.00000000e+00j],\n       [ 9.95290641e-01-2.79925447e-02j, -1.67610626e-02-3.11044409e-04j,\n         4.95316563e-02-5.77228644e-04j, -4.92257188e-02+1.29965741e-03j,\n         1.85337411e-02+7.47818714e-05j, -7.93210338e-03-2.97927743e-04j,\n        -5.50172238e-02+6.20731796e-04j,  4.42196746e-03+4.21927618e-05j],\n       [ 9.95290641e-01+2.79925447e-02j, -1.67610626e-02+3.11044409e-04j,\n         4.95316563e-02+5.77228644e-04j, -4.92257188e-02-1.29965741e-03j,\n         1.85337411e-02-7.47818714e-05j, -7.93210338e-03+2.97927743e-04j,\n        -5.50172238e-02-6.20731796e-04j,  4.42196746e-03-4.21927618e-05j],\n       [ 9.97935360e-01+0.00000000e+00j,  3.52715620e-03+0.00000000e+00j,\n         2.90203426e-02+0.00000000e+00j, -4.72577965e-02+0.00000000e+00j,\n         3.77578790e-03+0.00000000e+00j,  4.78261297e-03+0.00000000e+00j,\n        -3.16222611e-02+0.00000000e+00j,  5.10052541e-18+0.00000000e+00j]])"
     },
     "execution_count": 13,
     "metadata": {},
     "output_type": "execute_result"
    }
   ],
   "source": [
    "np.vstack(eigvectors)"
   ],
   "metadata": {
    "collapsed": false,
    "pycharm": {
     "name": "#%%\n"
    }
   }
  },
  {
   "cell_type": "code",
   "execution_count": 8,
   "outputs": [
    {
     "data": {
      "text/plain": "array([ -69.67435269+0.j, -352.01379449+0.j,  -23.42865101+1.j,\n        -23.42865101-1.j,  -57.80470656+0.j,   45.17252787+1.j,\n         45.17252787-1.j,   14.60431309+0.j])"
     },
     "execution_count": 8,
     "metadata": {},
     "output_type": "execute_result"
    }
   ],
   "source": [
    "eignvalues"
   ],
   "metadata": {
    "collapsed": false,
    "pycharm": {
     "name": "#%%\n"
    }
   }
  },
  {
   "cell_type": "code",
   "execution_count": 9,
   "outputs": [],
   "source": [
    "true_eigvalues, true_eigvectors = np.linalg.eig(x)"
   ],
   "metadata": {
    "collapsed": false,
    "pycharm": {
     "name": "#%%\n"
    }
   }
  },
  {
   "cell_type": "code",
   "execution_count": 10,
   "outputs": [
    {
     "data": {
      "text/plain": "array([352.01379432 +0.j        ,  23.42865115+61.56092331j,\n        23.42865115-61.56092331j, -45.17252787+20.80048361j,\n       -45.17252787-20.80048361j, -57.80470654 +0.j        ,\n        14.60431309 +0.j        ,  69.67435255 +0.j        ])"
     },
     "execution_count": 10,
     "metadata": {},
     "output_type": "execute_result"
    }
   ],
   "source": [
    "true_eigvalues"
   ],
   "metadata": {
    "collapsed": false,
    "pycharm": {
     "name": "#%%\n"
    }
   }
  },
  {
   "cell_type": "code",
   "execution_count": 14,
   "outputs": [
    {
     "data": {
      "text/plain": "array([[ 9.97903228e-01+0.00000000e+00j,  3.62920633e-02+0.00000000e+00j,\n        -1.55782658e-03+0.00000000e+00j, -4.44311404e-02+0.00000000e+00j,\n        -1.83397060e-02+0.00000000e+00j,  2.19624734e-02+0.00000000e+00j,\n         4.45378801e-03+0.00000000e+00j, -7.54651721e-03+0.00000000e+00j],\n       [ 9.93287187e-01+0.00000000e+00j,  7.45656735e-02+0.00000000e+00j,\n        -3.23633240e-02+0.00000000e+00j, -4.13547023e-02+0.00000000e+00j,\n        -4.04532898e-02+0.00000000e+00j,  3.69985614e-02+0.00000000e+00j,\n         4.23300208e-02+0.00000000e+00j, -1.63014046e-02+0.00000000e+00j],\n       [ 9.98244238e-01-1.96127525e-02j,  2.13199266e-02-8.11797543e-04j,\n         1.20463899e-02+1.26931203e-04j, -4.56405482e-02+8.62250375e-04j,\n        -8.50651120e-03+4.28596680e-04j,  1.45669112e-02-4.88684600e-04j,\n        -1.17602287e-02-1.97462328e-04j, -4.03720601e-03+1.69283767e-04j],\n       [ 9.98244238e-01+1.96127525e-02j,  2.13199266e-02+8.11797543e-04j,\n         1.20463899e-02-1.26931203e-04j, -4.56405482e-02-8.62250375e-04j,\n        -8.50651120e-03-4.28596680e-04j,  1.45669112e-02+4.88684600e-04j,\n        -1.17602287e-02+1.97462328e-04j, -4.03720601e-03-1.69283767e-04j],\n       [ 9.98093632e-01+0.00000000e+00j,  3.29273271e-02+0.00000000e+00j,\n         1.43012910e-03+0.00000000e+00j, -4.47058375e-02+0.00000000e+00j,\n        -1.61964512e-02+0.00000000e+00j,  2.03817279e-02+0.00000000e+00j,\n         8.84843546e-04+0.00000000e+00j, -6.76116641e-03+0.00000000e+00j],\n       [ 9.95290641e-01-2.79925447e-02j, -1.67610626e-02-3.11044409e-04j,\n         4.95316563e-02-5.77228644e-04j, -4.92257188e-02+1.29965741e-03j,\n         1.85337411e-02+7.47818714e-05j, -7.93210338e-03-2.97927743e-04j,\n        -5.50172238e-02+6.20731796e-04j,  4.42196746e-03+4.21927618e-05j],\n       [ 9.95290641e-01+2.79925447e-02j, -1.67610626e-02+3.11044409e-04j,\n         4.95316563e-02+5.77228644e-04j, -4.92257188e-02-1.29965741e-03j,\n         1.85337411e-02-7.47818714e-05j, -7.93210338e-03+2.97927743e-04j,\n        -5.50172238e-02-6.20731796e-04j,  4.42196746e-03-4.21927618e-05j],\n       [ 9.97935360e-01+0.00000000e+00j,  3.52715620e-03+0.00000000e+00j,\n         2.90203426e-02+0.00000000e+00j, -4.72577965e-02+0.00000000e+00j,\n         3.77578790e-03+0.00000000e+00j,  4.78261297e-03+0.00000000e+00j,\n        -3.16222611e-02+0.00000000e+00j,  5.10052541e-18+0.00000000e+00j]])"
     },
     "execution_count": 14,
     "metadata": {},
     "output_type": "execute_result"
    }
   ],
   "source": [
    "np.vstack(eigvectors)"
   ],
   "metadata": {
    "collapsed": false,
    "pycharm": {
     "name": "#%%\n"
    }
   }
  },
  {
   "cell_type": "code",
   "execution_count": 11,
   "outputs": [
    {
     "data": {
      "text/plain": "array([[ 0.41703759+0.j        ,  0.55509994+0.j        ,\n         0.55509994-0.j        , -0.09603021+0.20490786j,\n        -0.09603021-0.20490786j, -0.16771061+0.j        ,\n         0.23760349+0.j        ,  0.05825632+0.j        ],\n       [ 0.40392465+0.j        , -0.04944571+0.19187464j,\n        -0.04944571-0.19187464j, -0.11851959+0.15291271j,\n        -0.11851959-0.15291271j, -0.47128673+0.j        ,\n        -0.11513513+0.j        , -0.26363876+0.j        ],\n       [ 0.34550884+0.j        , -0.08085905+0.33225594j,\n        -0.08085905-0.33225594j,  0.12277761-0.17624308j,\n         0.12277761+0.17624308j,  0.37953693+0.j        ,\n         0.72555785+0.j        ,  0.37425647+0.j        ],\n       [ 0.44742963+0.j        , -0.02881343-0.01861535j,\n        -0.02881343+0.01861535j, -0.05874166-0.26862163j,\n        -0.05874166+0.26862163j,  0.11035514+0.j        ,\n        -0.3038945 +0.j        ,  0.12919714+0.j        ],\n       [ 0.17655718+0.j        , -0.19058885+0.05103895j,\n        -0.19058885-0.05103895j, -0.39355268-0.0961332j ,\n        -0.39355268+0.0961332j , -0.07431065+0.j        ,\n        -0.13419078+0.j        , -0.36881586+0.j        ],\n       [ 0.25310349+0.j        , -0.08434793+0.37704012j,\n        -0.08434793-0.37704012j,  0.13283253-0.08573338j,\n         0.13283253+0.08573338j,  0.42138162+0.j        ,\n        -0.10113609+0.j        ,  0.12519986+0.j        ],\n       [ 0.24756545+0.j        , -0.03122802-0.52452866j,\n        -0.03122802+0.52452866j,  0.58515442+0.j        ,\n         0.58515442-0.j        ,  0.36037103+0.j        ,\n         0.11415597+0.j        , -0.45533734+0.j        ],\n       [ 0.43224117+0.j        , -0.26491239+0.00271728j,\n        -0.26491239-0.00271728j, -0.49357913+0.12029797j,\n        -0.49357913-0.12029797j, -0.52970143+0.j        ,\n        -0.51984148+0.j        ,  0.64133358+0.j        ]])"
     },
     "execution_count": 11,
     "metadata": {},
     "output_type": "execute_result"
    }
   ],
   "source": [
    "true_eigvectors"
   ],
   "metadata": {
    "collapsed": false,
    "pycharm": {
     "name": "#%%\n"
    }
   }
  },
  {
   "cell_type": "code",
   "execution_count": 12,
   "outputs": [
    {
     "ename": "NameError",
     "evalue": "name 'merged' is not defined",
     "output_type": "error",
     "traceback": [
      "\u001B[1;31m---------------------------------------------------------------------------\u001B[0m",
      "\u001B[1;31mNameError\u001B[0m                                 Traceback (most recent call last)",
      "Cell \u001B[1;32mIn [12], line 1\u001B[0m\n\u001B[1;32m----> 1\u001B[0m diag_roots \u001B[38;5;241m=\u001B[39m np\u001B[38;5;241m.\u001B[39mdiag(\u001B[43mmerged\u001B[49m)\n",
      "\u001B[1;31mNameError\u001B[0m: name 'merged' is not defined"
     ]
    }
   ],
   "source": [
    "diag_roots = np.diag(merged)"
   ],
   "metadata": {
    "collapsed": false,
    "pycharm": {
     "name": "#%%\n"
    }
   }
  },
  {
   "cell_type": "code",
   "execution_count": null,
   "outputs": [],
   "source": [
    "matrix_to_solve = r - diag_roots"
   ],
   "metadata": {
    "collapsed": false,
    "pycharm": {
     "name": "#%%\n"
    }
   }
  },
  {
   "cell_type": "code",
   "execution_count": null,
   "outputs": [],
   "source": [
    "m = np.column_stack(\n",
    "    [matrix_to_solve,\n",
    "     np.zeros(matrix_to_solve.shape[0])\n",
    "     ])"
   ],
   "metadata": {
    "collapsed": false,
    "pycharm": {
     "name": "#%%\n"
    }
   }
  },
  {
   "cell_type": "code",
   "execution_count": null,
   "outputs": [],
   "source": [
    "x_complex = scipy.sparse.linalg.spsolve(matrix_to_solve,dtype=np.cfloat)"
   ],
   "metadata": {
    "collapsed": false,
    "pycharm": {
     "name": "#%%\n"
    }
   }
  },
  {
   "cell_type": "code",
   "execution_count": null,
   "outputs": [],
   "source": [
    "x_complex"
   ],
   "metadata": {
    "collapsed": false,
    "pycharm": {
     "name": "#%%\n"
    }
   }
  },
  {
   "cell_type": "code",
   "execution_count": null,
   "outputs": [],
   "source": [
    "gaussian_elimination(matrix_to_solve, np.zeros(matrix_to_solve.shape[0]))"
   ],
   "metadata": {
    "collapsed": false,
    "pycharm": {
     "name": "#%%\n"
    }
   }
  },
  {
   "cell_type": "code",
   "execution_count": null,
   "outputs": [],
   "source": [
    "q, r = qr_decomposition(x)"
   ],
   "metadata": {
    "collapsed": false,
    "pycharm": {
     "name": "#%%\n"
    }
   }
  },
  {
   "cell_type": "code",
   "execution_count": null,
   "outputs": [],
   "source": [
    "# q @ r"
   ],
   "metadata": {
    "collapsed": false,
    "pycharm": {
     "name": "#%%\n"
    }
   }
  },
  {
   "cell_type": "code",
   "execution_count": null,
   "outputs": [],
   "source": [],
   "metadata": {
    "collapsed": false,
    "pycharm": {
     "name": "#%%\n"
    }
   }
  }
 ],
 "metadata": {
  "kernelspec": {
   "display_name": "Python 3",
   "language": "python",
   "name": "python3"
  },
  "language_info": {
   "codemirror_mode": {
    "name": "ipython",
    "version": 2
   },
   "file_extension": ".py",
   "mimetype": "text/x-python",
   "name": "python",
   "nbconvert_exporter": "python",
   "pygments_lexer": "ipython2",
   "version": "2.7.6"
  }
 },
 "nbformat": 4,
 "nbformat_minor": 0
}